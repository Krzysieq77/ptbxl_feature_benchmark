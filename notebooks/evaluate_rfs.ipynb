{
 "cells": [
  {
   "cell_type": "code",
   "execution_count": 77,
   "id": "fd1e2572",
   "metadata": {},
   "outputs": [],
   "source": [
    "import sys \n",
    "sys.path.append(\"../code\")\n",
    "from utils import get_split\n",
    "import matplotlib.pyplot as plt\n",
    "import numpy as np\n",
    "import glob \n",
    "import re\n",
    "import pdb"
   ]
  },
  {
   "cell_type": "code",
   "execution_count": 72,
   "id": "a2e20fae",
   "metadata": {},
   "outputs": [],
   "source": [
    "files =list({file for file in glob.iglob(\"../output\" + '**/**', recursive=True) \\\n",
    "             if file.endswith('txt')})"
   ]
  },
  {
   "cell_type": "code",
   "execution_count": 53,
   "id": "217fb1d9",
   "metadata": {},
   "outputs": [],
   "source": [
    "datasets = ['ge', 'glasgow', 'kit']\n",
    "label_classes=['label_all', 'label_diag', 'label_form', 'label_rhythm', 'label_diag_subclass', 'label_diag_superclass']"
   ]
  },
  {
   "cell_type": "code",
   "execution_count": 54,
   "id": "7add9248",
   "metadata": {},
   "outputs": [],
   "source": [
    "comp = re.compile(\"depth_[a-zA-Z0-9]*\")\n",
    "def get_depth(filename):\n",
    "     return comp.search(filename)[0][6:]"
   ]
  },
  {
   "cell_type": "code",
   "execution_count": 91,
   "id": "22373288",
   "metadata": {},
   "outputs": [],
   "source": [
    "def load_val(filename):\n",
    "    with open(filename, 'r') as file:\n",
    "        val = json.load(file)['test_auc']\n",
    "    return np.round(val, 4)"
   ]
  },
  {
   "cell_type": "code",
   "execution_count": 83,
   "id": "15eda90c",
   "metadata": {},
   "outputs": [],
   "source": [
    "def evaluate(dataset, label):\n",
    "    if label == 'label_diag':\n",
    "        filenames = [x for x in files if dataset+\"/\" in x and \"label_diag_rf\" in x]\n",
    "    else:\n",
    "        filenames = [x for x in files if dataset+\"/\" in x and label in x]\n",
    "    # print(len(filenames))\n",
    "    # pdb.set_trace()\n",
    "    assert(len(filenames)==4)\n",
    "    res = []\n",
    "    for filename in filenames:\n",
    "        depth = get_depth(filename)\n",
    "        val = load_val(filename)\n",
    "        res.append([depth, val])\n",
    "    res = sorted(res, key=lambda x:x[1])\n",
    "    return res[-1]"
   ]
  },
  {
   "cell_type": "code",
   "execution_count": 85,
   "id": "895dfd42",
   "metadata": {},
   "outputs": [],
   "source": [
    "def evaluate_intersect(dataset1, dataset2, label):\n",
    "    if label == 'label_diag':\n",
    "        filenames = [x for x in intersection_files if (dataset1+\"_w_\"+dataset2) in x and 'label_diag_rf' in x]\n",
    "    else:\n",
    "        filenames = [x for x in intersection_files if (dataset1+\"_w_\"+dataset2) in x and label in x]\n",
    "    assert(len(filenames)==4)\n",
    "    res = []\n",
    "    for filename in filenames:\n",
    "        depth = get_depth(filename)\n",
    "        val = load_val(filename)\n",
    "        res.append([depth, val])\n",
    "    res = sorted(res, key=lambda x:x[1])\n",
    "    return res[-1]"
   ]
  },
  {
   "cell_type": "code",
   "execution_count": 86,
   "id": "ef86f34d",
   "metadata": {},
   "outputs": [],
   "source": [
    "results={}\n",
    "for label in label_classes:\n",
    "    for dataset in datasets:\n",
    "        depth, auc = evaluate(dataset, label)\n",
    "        results[dataset+\"_\"+label] = [auc, \"depth: \" +str(depth)]"
   ]
  },
  {
   "cell_type": "code",
   "execution_count": 87,
   "id": "ef2837fd",
   "metadata": {},
   "outputs": [],
   "source": [
    "hdd_dir = \"/home/temesgen/hdd/home/temesgen/backup_clones/ptbxl_feature_benchmark/output\"\n",
    "intersection_files = files =list({file for file in glob.iglob(hdd_dir + '**/**', recursive=True) \\\n",
    "             if file.endswith('txt')})"
   ]
  },
  {
   "cell_type": "code",
   "execution_count": 92,
   "id": "9257d40f",
   "metadata": {},
   "outputs": [],
   "source": [
    "intersect_results={}\n",
    "for label in label_classes:\n",
    "    for dataset1 in datasets:\n",
    "        for dataset2 in datasets:\n",
    "            if dataset1 == dataset2:\n",
    "                continue\n",
    "            depth, auc = evaluate_intersect(dataset1, dataset2, label)\n",
    "            intersect_results[dataset1+\"_w_\"+dataset2+\"_\"+label] = [auc, \"depth: \" +str(depth)]"
   ]
  },
  {
   "cell_type": "code",
   "execution_count": 89,
   "id": "12ba41fc",
   "metadata": {},
   "outputs": [
    {
     "data": {
      "text/plain": [
       "{'ge_label_all': [0.8595462768128157, 'depth: 10'],\n",
       " 'ge_label_diag': [0.8883604228133816, 'depth: 10'],\n",
       " 'ge_label_diag_subclass': [0.8683425664177306, 'depth: None'],\n",
       " 'ge_label_diag_superclass': [0.9248811298064259, 'depth: None'],\n",
       " 'ge_label_form': [0.7850142640073348, 'depth: 10'],\n",
       " 'ge_label_rhythm': [0.8817993682576085, 'depth: None'],\n",
       " 'glasgow_label_all': [0.8788842231953172, 'depth: 10'],\n",
       " 'glasgow_label_diag': [0.8988935603631929, 'depth: 10'],\n",
       " 'glasgow_label_diag_subclass': [0.8879531248685154, 'depth: None'],\n",
       " 'glasgow_label_diag_superclass': [0.9220008924603729, 'depth: None'],\n",
       " 'glasgow_label_form': [0.8226477377534055, 'depth: 10'],\n",
       " 'glasgow_label_rhythm': [0.9652066838767235, 'depth: 30'],\n",
       " 'kit_label_all': [0.8628365813145192, 'depth: 10'],\n",
       " 'kit_label_diag': [0.8835362470142766, 'depth: 10'],\n",
       " 'kit_label_diag_subclass': [0.863625339899937, 'depth: 10'],\n",
       " 'kit_label_diag_superclass': [0.896938326197183, 'depth: None'],\n",
       " 'kit_label_form': [0.7840852537925843, 'depth: 10'],\n",
       " 'kit_label_rhythm': [0.9687211200390576, 'depth: 10']}"
      ]
     },
     "execution_count": 89,
     "metadata": {},
     "output_type": "execute_result"
    }
   ],
   "source": [
    "{key:results[key] for key in sorted(results)}"
   ]
  },
  {
   "cell_type": "code",
   "execution_count": 93,
   "id": "3c010084",
   "metadata": {},
   "outputs": [
    {
     "data": {
      "text/plain": [
       "{'ge_w_glasgow_label_all': [0.8558, 'depth: 10'],\n",
       " 'ge_w_glasgow_label_diag': [0.8924, 'depth: 10'],\n",
       " 'ge_w_glasgow_label_diag_subclass': [0.8831, 'depth: 10'],\n",
       " 'ge_w_glasgow_label_diag_superclass': [0.9253, 'depth: None'],\n",
       " 'ge_w_glasgow_label_form': [0.7978, 'depth: 10'],\n",
       " 'ge_w_glasgow_label_rhythm': [0.8719, 'depth: None'],\n",
       " 'ge_w_kit_label_all': [0.8512, 'depth: 10'],\n",
       " 'ge_w_kit_label_diag': [0.8899, 'depth: 10'],\n",
       " 'ge_w_kit_label_diag_subclass': [0.8699, 'depth: None'],\n",
       " 'ge_w_kit_label_diag_superclass': [0.9189, 'depth: None'],\n",
       " 'ge_w_kit_label_form': [0.7835, 'depth: 10'],\n",
       " 'ge_w_kit_label_rhythm': [0.8478, 'depth: None'],\n",
       " 'glasgow_w_ge_label_all': [0.8632, 'depth: 10'],\n",
       " 'glasgow_w_ge_label_diag': [0.903, 'depth: 10'],\n",
       " 'glasgow_w_ge_label_diag_subclass': [0.8875, 'depth: 30'],\n",
       " 'glasgow_w_ge_label_diag_superclass': [0.9229, 'depth: None'],\n",
       " 'glasgow_w_ge_label_form': [0.7928, 'depth: 10'],\n",
       " 'glasgow_w_ge_label_rhythm': [0.8843, 'depth: 30'],\n",
       " 'glasgow_w_kit_label_all': [0.851, 'depth: 10'],\n",
       " 'glasgow_w_kit_label_diag': [0.8984, 'depth: 10'],\n",
       " 'glasgow_w_kit_label_diag_subclass': [0.89, 'depth: 20'],\n",
       " 'glasgow_w_kit_label_diag_superclass': [0.9159, 'depth: None'],\n",
       " 'glasgow_w_kit_label_form': [0.7887, 'depth: None'],\n",
       " 'glasgow_w_kit_label_rhythm': [0.8727, 'depth: 10'],\n",
       " 'kit_w_ge_label_all': [0.8536, 'depth: 10'],\n",
       " 'kit_w_ge_label_diag': [0.8775, 'depth: 10'],\n",
       " 'kit_w_ge_label_diag_subclass': [0.8844, 'depth: 10'],\n",
       " 'kit_w_ge_label_diag_superclass': [0.9032, 'depth: None'],\n",
       " 'kit_w_ge_label_form': [0.7612, 'depth: 10'],\n",
       " 'kit_w_ge_label_rhythm': [0.8904, 'depth: 10'],\n",
       " 'kit_w_glasgow_label_all': [0.8527, 'depth: 10'],\n",
       " 'kit_w_glasgow_label_diag': [0.8923, 'depth: 10'],\n",
       " 'kit_w_glasgow_label_diag_subclass': [0.8592, 'depth: 30'],\n",
       " 'kit_w_glasgow_label_diag_superclass': [0.9052, 'depth: None'],\n",
       " 'kit_w_glasgow_label_form': [0.7707, 'depth: 20'],\n",
       " 'kit_w_glasgow_label_rhythm': [0.8999, 'depth: 10']}"
      ]
     },
     "execution_count": 93,
     "metadata": {},
     "output_type": "execute_result"
    }
   ],
   "source": [
    "{key:intersect_results[key] for key in sorted(intersect_results)}"
   ]
  },
  {
   "cell_type": "code",
   "execution_count": 74,
   "id": "17a1756d",
   "metadata": {},
   "outputs": [
    {
     "data": {
      "text/plain": [
       "['../output/ge/rf_label_all_rf_max_depth_10/1660227585.6808805/log.txt',\n",
       " '../output/ge/rf_label_all_rf_max_depth_20/1660227691.0764332/log.txt',\n",
       " '../output/ge/rf_label_all_rf_max_depth_30/1660227823.3571787/log.txt',\n",
       " '../output/ge/rf_label_all_rf_max_depth_None/1660228046.1908555/log.txt',\n",
       " '../output/ge/rf_label_diag_rf_max_depth_10/1660228831.5437973/log.txt',\n",
       " '../output/ge/rf_label_diag_rf_max_depth_20/1660228907.1961622/log.txt',\n",
       " '../output/ge/rf_label_diag_rf_max_depth_30/1660228997.0519104/log.txt',\n",
       " '../output/ge/rf_label_diag_rf_max_depth_None/1660229132.5075734/log.txt',\n",
       " '../output/ge/rf_label_diag_subclass_rf_max_depth_10/1660230891.7180972/log.txt',\n",
       " '../output/ge/rf_label_diag_subclass_rf_max_depth_20/1660230940.2566998/log.txt',\n",
       " '../output/ge/rf_label_diag_subclass_rf_max_depth_30/1660230998.6983516/log.txt',\n",
       " '../output/ge/rf_label_diag_subclass_rf_max_depth_None/1660231087.4723282/log.txt',\n",
       " '../output/ge/rf_label_diag_superclass_rf_max_depth_10/1660231352.794421/log.txt',\n",
       " '../output/ge/rf_label_diag_superclass_rf_max_depth_20/1660231376.7056816/log.txt',\n",
       " '../output/ge/rf_label_diag_superclass_rf_max_depth_30/1660231405.186333/log.txt',\n",
       " '../output/ge/rf_label_diag_superclass_rf_max_depth_None/1660231446.8404765/log.txt',\n",
       " '../output/ge/rf_label_form_rf_max_depth_10/1660229644.1647356/log.txt',\n",
       " '../output/ge/rf_label_form_rf_max_depth_20/1660229688.530105/log.txt',\n",
       " '../output/ge/rf_label_form_rf_max_depth_30/1660229745.4332094/log.txt',\n",
       " '../output/ge/rf_label_form_rf_max_depth_None/1660229848.3151755/log.txt',\n",
       " '../output/ge/rf_label_rhythm_rf_max_depth_10/1660230228.169985/log.txt',\n",
       " '../output/ge/rf_label_rhythm_rf_max_depth_20/1660230261.5144522/log.txt',\n",
       " '../output/ge/rf_label_rhythm_rf_max_depth_30/1660230306.8813791/log.txt',\n",
       " '../output/ge/rf_label_rhythm_rf_max_depth_None/1660230374.7449734/log.txt',\n",
       " '../output/glasgow/rf_label_all_rf_max_depth_10/1660226485.366325/log.txt',\n",
       " '../output/glasgow/rf_label_all_rf_max_depth_20/1660226603.5474043/log.txt',\n",
       " '../output/glasgow/rf_label_all_rf_max_depth_30/1660226749.1283424/log.txt',\n",
       " '../output/glasgow/rf_label_all_rf_max_depth_None/1660226991.2438884/log.txt',\n",
       " '../output/glasgow/rf_label_diag_rf_max_depth_10/1660228100.1842036/log.txt',\n",
       " '../output/glasgow/rf_label_diag_rf_max_depth_20/1660228185.2159975/log.txt',\n",
       " '../output/glasgow/rf_label_diag_rf_max_depth_30/1660228288.768539/log.txt',\n",
       " '../output/glasgow/rf_label_diag_rf_max_depth_None/1660228436.8083937/log.txt',\n",
       " '../output/glasgow/rf_label_diag_subclass_rf_max_depth_10/1660230412.228123/log.txt',\n",
       " '../output/glasgow/rf_label_diag_subclass_rf_max_depth_20/1660230471.2601678/log.txt',\n",
       " '../output/glasgow/rf_label_diag_subclass_rf_max_depth_30/1660230539.9065514/log.txt',\n",
       " '../output/glasgow/rf_label_diag_subclass_rf_max_depth_None/1660230638.2403162/log.txt',\n",
       " '../output/glasgow/rf_label_diag_superclass_rf_max_depth_10/1660231111.3623319/log.txt',\n",
       " '../output/glasgow/rf_label_diag_superclass_rf_max_depth_20/1660231144.1338391/log.txt',\n",
       " '../output/glasgow/rf_label_diag_superclass_rf_max_depth_30/1660231181.6399863/log.txt',\n",
       " '../output/glasgow/rf_label_diag_superclass_rf_max_depth_None/1660231232.1621304/log.txt',\n",
       " '../output/glasgow/rf_label_form_rf_max_depth_10/1660229167.0155303/log.txt',\n",
       " '../output/glasgow/rf_label_form_rf_max_depth_20/1660229220.626342/log.txt',\n",
       " '../output/glasgow/rf_label_form_rf_max_depth_30/1660229286.7245176/log.txt',\n",
       " '../output/glasgow/rf_label_form_rf_max_depth_None/1660229397.7909217/log.txt',\n",
       " '../output/glasgow/rf_label_rhythm_rf_max_depth_10/1660229877.14518/log.txt',\n",
       " '../output/glasgow/rf_label_rhythm_rf_max_depth_20/1660229919.3278415/log.txt',\n",
       " '../output/glasgow/rf_label_rhythm_rf_max_depth_30/1660229972.7953024/log.txt',\n",
       " '../output/glasgow/rf_label_rhythm_rf_max_depth_None/1660230046.9569678/log.txt',\n",
       " '../output/kit/rf_label_all_rf_max_depth_10/1660227058.2425983/log.txt',\n",
       " '../output/kit/rf_label_all_rf_max_depth_20/1660227182.2368379/log.txt',\n",
       " '../output/kit/rf_label_all_rf_max_depth_30/1660227331.9411345/log.txt',\n",
       " '../output/kit/rf_label_all_rf_max_depth_None/1660227527.6491892/log.txt',\n",
       " '../output/kit/rf_label_diag_rf_max_depth_10/1660228485.6521149/log.txt',\n",
       " '../output/kit/rf_label_diag_rf_max_depth_20/1660228572.35586/log.txt',\n",
       " '../output/kit/rf_label_diag_rf_max_depth_30/1660228672.121511/log.txt',\n",
       " '../output/kit/rf_label_diag_rf_max_depth_None/1660228788.2610786/log.txt',\n",
       " '../output/kit/rf_label_diag_subclass_rf_max_depth_10/1660230670.5992517/log.txt',\n",
       " '../output/kit/rf_label_diag_subclass_rf_max_depth_20/1660230725.7689154/log.txt',\n",
       " '../output/kit/rf_label_diag_subclass_rf_max_depth_30/1660230789.406132/log.txt',\n",
       " '../output/kit/rf_label_diag_subclass_rf_max_depth_None/1660230862.9534996/log.txt',\n",
       " '../output/kit/rf_label_diag_superclass_rf_max_depth_10/1660231249.137902/log.txt',\n",
       " '../output/kit/rf_label_diag_superclass_rf_max_depth_20/1660231275.0698493/log.txt',\n",
       " '../output/kit/rf_label_diag_superclass_rf_max_depth_30/1660231304.3553667/log.txt',\n",
       " '../output/kit/rf_label_diag_superclass_rf_max_depth_None/1660231337.5809176/log.txt',\n",
       " '../output/kit/rf_label_form_rf_max_depth_10/1660229427.425507/log.txt',\n",
       " '../output/kit/rf_label_form_rf_max_depth_20/1660229477.2365854/log.txt',\n",
       " '../output/kit/rf_label_form_rf_max_depth_30/1660229537.700309/log.txt',\n",
       " '../output/kit/rf_label_form_rf_max_depth_None/1660229618.65844/log.txt',\n",
       " '../output/kit/rf_label_rhythm_rf_max_depth_10/1660230069.0997424/log.txt',\n",
       " '../output/kit/rf_label_rhythm_rf_max_depth_20/1660230104.851621/log.txt',\n",
       " '../output/kit/rf_label_rhythm_rf_max_depth_30/1660230151.4426563/log.txt',\n",
       " '../output/kit/rf_label_rhythm_rf_max_depth_None/1660230208.8098958/log.txt']"
      ]
     },
     "execution_count": 74,
     "metadata": {},
     "output_type": "execute_result"
    }
   ],
   "source": [
    "sorted(files)"
   ]
  },
  {
   "cell_type": "code",
   "execution_count": null,
   "id": "113ad14e",
   "metadata": {},
   "outputs": [],
   "source": []
  },
  {
   "cell_type": "code",
   "execution_count": null,
   "id": "a443fc5c",
   "metadata": {},
   "outputs": [],
   "source": []
  }
 ],
 "metadata": {
  "kernelspec": {
   "display_name": "Python 3 (ipykernel)",
   "language": "python",
   "name": "python3"
  },
  "language_info": {
   "codemirror_mode": {
    "name": "ipython",
    "version": 3
   },
   "file_extension": ".py",
   "mimetype": "text/x-python",
   "name": "python",
   "nbconvert_exporter": "python",
   "pygments_lexer": "ipython3",
   "version": "3.9.11"
  }
 },
 "nbformat": 4,
 "nbformat_minor": 5
}
