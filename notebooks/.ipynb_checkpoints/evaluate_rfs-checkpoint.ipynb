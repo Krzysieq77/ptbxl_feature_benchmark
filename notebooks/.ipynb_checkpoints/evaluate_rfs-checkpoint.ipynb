{
 "cells": [
  {
   "cell_type": "code",
   "execution_count": 16,
   "id": "fd1e2572",
   "metadata": {},
   "outputs": [],
   "source": [
    "import sys \n",
    "sys.path.append(\"../code\")\n",
    "from utils import get_split\n",
    "import matplotlib.pyplot as plt\n",
    "import numpy as np\n",
    "import glob \n",
    "import re"
   ]
  },
  {
   "cell_type": "code",
   "execution_count": 17,
   "id": "a2e20fae",
   "metadata": {},
   "outputs": [],
   "source": [
    "files =list({file for file in glob.iglob(\"../output\" + '**/**', recursive=True) \\\n",
    "             if file.endswith('txt')})"
   ]
  },
  {
   "cell_type": "code",
   "execution_count": 18,
   "id": "217fb1d9",
   "metadata": {},
   "outputs": [],
   "source": [
    "datasets = ['ge', 'glasgow', 'kit']\n",
    "label_classes=['label_all', 'label_diag', 'label_form', 'label_rhythm', 'label_diag_subclass', 'label_diag_superclass']"
   ]
  },
  {
   "cell_type": "code",
   "execution_count": 19,
   "id": "9087db32",
   "metadata": {},
   "outputs": [
    {
     "data": {
      "text/plain": [
       "['../output/kit/rf_label_all_rf_max_depth_None/1660227527.6491892/log.txt',\n",
       " '../output/kit/rf_label_all_rf_max_depth_10/1660227058.2425983/log.txt',\n",
       " '../output/kit/rf_label_all_rf_max_depth_30/1660227331.9411345/log.txt',\n",
       " '../output/kit/rf_label_all_rf_max_depth_20/1660227182.2368379/log.txt']"
      ]
     },
     "execution_count": 19,
     "metadata": {},
     "output_type": "execute_result"
    }
   ],
   "source": [
    "[x for x in files if 'kit' in x and 'label_all' in x]"
   ]
  },
  {
   "cell_type": "code",
   "execution_count": 25,
   "id": "7add9248",
   "metadata": {},
   "outputs": [],
   "source": [
    "comp = re.compile(\"depth_\\S/\")"
   ]
  },
  {
   "cell_type": "code",
   "execution_count": 26,
   "id": "c3151cdf",
   "metadata": {},
   "outputs": [
    {
     "data": {
      "text/plain": [
       "'depth_None/1660227527.6491892/'"
      ]
     },
     "execution_count": 26,
     "metadata": {},
     "output_type": "execute_result"
    }
   ],
   "source": [
    "comp.search(files[0])[0]"
   ]
  },
  {
   "cell_type": "code",
   "execution_count": null,
   "id": "af77c3a0",
   "metadata": {},
   "outputs": [],
   "source": []
  },
  {
   "cell_type": "code",
   "execution_count": null,
   "id": "15eda90c",
   "metadata": {},
   "outputs": [],
   "source": []
  },
  {
   "cell_type": "code",
   "execution_count": null,
   "id": "db1d8d8a",
   "metadata": {},
   "outputs": [],
   "source": []
  },
  {
   "cell_type": "code",
   "execution_count": null,
   "id": "ca2f19c7",
   "metadata": {},
   "outputs": [],
   "source": []
  }
 ],
 "metadata": {
  "kernelspec": {
   "display_name": "Python 3 (ipykernel)",
   "language": "python",
   "name": "python3"
  },
  "language_info": {
   "codemirror_mode": {
    "name": "ipython",
    "version": 3
   },
   "file_extension": ".py",
   "mimetype": "text/x-python",
   "name": "python",
   "nbconvert_exporter": "python",
   "pygments_lexer": "ipython3",
   "version": "3.9.11"
  }
 },
 "nbformat": 4,
 "nbformat_minor": 5
}
